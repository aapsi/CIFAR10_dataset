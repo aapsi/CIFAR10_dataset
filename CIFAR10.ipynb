{
 "cells": [
  {
   "cell_type": "code",
   "execution_count": 67,
   "metadata": {},
   "outputs": [],
   "source": [
    "from keras.datasets import cifar10"
   ]
  },
  {
   "cell_type": "code",
   "execution_count": 68,
   "metadata": {},
   "outputs": [],
   "source": [
    "#tuple unpacking\n",
    "(x_train,y_train),(x_test,y_test) = cifar10.load_data()"
   ]
  },
  {
   "cell_type": "code",
   "execution_count": 69,
   "metadata": {},
   "outputs": [],
   "source": [
    "import matplotlib.pyplot as plt\n",
    "%matplotlib inline"
   ]
  },
  {
   "cell_type": "markdown",
   "metadata": {},
   "source": [
    "**NORMALIZATION THROUGH SKLEARN**\n",
    "\n",
    "from sklearn.preprocessing import MinMaxScaler\n",
    "#reshaping\n",
    "n,x,y,c = x_train.shape\n",
    "x_train = x_train.reshape(50000,x,y,1)\n",
    "\n",
    "n,x,y,c = x_test.shape\n",
    "x_test = x_test.reshape(10000,x,y,1)\n",
    "\n",
    "#normalization\n",
    "scaler_object = MinMaxScaler()\n",
    "scaler_object.fit(x_train)\n",
    "scaled_x_train = scaler_object.transform(x_train)\n",
    "scaled_x_test = scaler_object.transform(x_test)"
   ]
  },
  {
   "cell_type": "code",
   "execution_count": 70,
   "metadata": {},
   "outputs": [],
   "source": [
    "#NORMALIZATION\n",
    "x_train =x_train/255\n",
    "x_test = x_test/255"
   ]
  },
  {
   "cell_type": "code",
   "execution_count": 71,
   "metadata": {},
   "outputs": [],
   "source": [
    "#converting the labels using onehot encoding\n",
    "from keras.utils.np_utils import to_categorical\n",
    "y_cat_train = to_categorical(y_train,10)\n",
    "y_cat_test = to_categorical(y_test,10)"
   ]
  },
  {
   "cell_type": "code",
   "execution_count": 72,
   "metadata": {},
   "outputs": [],
   "source": [
    "from keras.models import Sequential\n",
    "from keras.layers import Dense,Conv2D,Flatten,MaxPool2D"
   ]
  },
  {
   "cell_type": "code",
   "execution_count": 73,
   "metadata": {},
   "outputs": [],
   "source": [
    "#MODEL CREATION\n",
    "model = Sequential()\n",
    "\n",
    "#ADDING LAYERS\n",
    "#covolution layer and maxpool layer \n",
    "model.add(Conv2D(filters = 32,kernel_size = (4,4),input_shape = (32,32,3),activation ='relu'))\n",
    "model.add(MaxPool2D(pool_size = (2,2)))\n",
    "\n",
    "#covolution layer and maxpool layer \n",
    "model.add(Conv2D(filters = 32,kernel_size = (4,4),input_shape = (32,32,3),activation ='relu'))\n",
    "model.add(MaxPool2D(pool_size = (2,2)))\n",
    "\n",
    "#Flatten\n",
    "model.add(Flatten())\n",
    "\n",
    "#DENSE\n",
    "model.add(Dense(256,activation = 'relu'))\n",
    "model.add(Dense(10,activation = 'softmax'))\n",
    "\n",
    "#COMPILE THE MODEL\n",
    "model.compile(loss = 'categorical_crossentropy', optimizer = 'rmsprop',metrics = ['accuracy'])"
   ]
  },
  {
   "cell_type": "code",
   "execution_count": 74,
   "metadata": {},
   "outputs": [
    {
     "name": "stdout",
     "output_type": "stream",
     "text": [
      "_________________________________________________________________\n",
      "Layer (type)                 Output Shape              Param #   \n",
      "=================================================================\n",
      "conv2d_16 (Conv2D)           (None, 29, 29, 32)        1568      \n",
      "_________________________________________________________________\n",
      "max_pooling2d_16 (MaxPooling (None, 14, 14, 32)        0         \n",
      "_________________________________________________________________\n",
      "conv2d_17 (Conv2D)           (None, 11, 11, 32)        16416     \n",
      "_________________________________________________________________\n",
      "max_pooling2d_17 (MaxPooling (None, 5, 5, 32)          0         \n",
      "_________________________________________________________________\n",
      "flatten_6 (Flatten)          (None, 800)               0         \n",
      "_________________________________________________________________\n",
      "dense_11 (Dense)             (None, 256)               205056    \n",
      "_________________________________________________________________\n",
      "dense_12 (Dense)             (None, 10)                2570      \n",
      "=================================================================\n",
      "Total params: 225,610\n",
      "Trainable params: 225,610\n",
      "Non-trainable params: 0\n",
      "_________________________________________________________________\n"
     ]
    }
   ],
   "source": [
    "model.summary()"
   ]
  },
  {
   "cell_type": "code",
   "execution_count": 75,
   "metadata": {},
   "outputs": [
    {
     "name": "stdout",
     "output_type": "stream",
     "text": [
      "Epoch 1/20\n",
      " - 54s - loss: 1.5244 - acc: 0.4503\n",
      "Epoch 2/20\n",
      " - 54s - loss: 1.1716 - acc: 0.5888\n",
      "Epoch 3/20\n",
      " - 54s - loss: 1.0197 - acc: 0.6444\n",
      "Epoch 4/20\n",
      " - 52s - loss: 0.9180 - acc: 0.6827\n",
      "Epoch 5/20\n",
      " - 53s - loss: 0.8345 - acc: 0.7124\n",
      "Epoch 6/20\n",
      " - 53s - loss: 0.7663 - acc: 0.7374\n",
      "Epoch 7/20\n",
      " - 53s - loss: 0.7120 - acc: 0.7534\n",
      "Epoch 8/20\n",
      " - 65s - loss: 0.6657 - acc: 0.7751\n",
      "Epoch 9/20\n",
      " - 77s - loss: 0.6283 - acc: 0.7872\n",
      "Epoch 10/20\n",
      " - 71s - loss: 0.5918 - acc: 0.8011\n",
      "Epoch 11/20\n",
      " - 75s - loss: 0.5591 - acc: 0.8101\n",
      "Epoch 12/20\n",
      " - 73s - loss: 0.5407 - acc: 0.8165\n",
      "Epoch 13/20\n",
      " - 79s - loss: 0.5144 - acc: 0.8268\n",
      "Epoch 14/20\n",
      " - 76s - loss: 0.4909 - acc: 0.8358\n",
      "Epoch 15/20\n",
      " - 71s - loss: 0.4716 - acc: 0.8430\n",
      "Epoch 16/20\n",
      " - 72s - loss: 0.4571 - acc: 0.8480\n",
      "Epoch 17/20\n",
      " - 70s - loss: 0.4427 - acc: 0.8534\n",
      "Epoch 18/20\n",
      " - 71s - loss: 0.4357 - acc: 0.8586\n",
      "Epoch 19/20\n",
      " - 70s - loss: 0.4202 - acc: 0.8619\n",
      "Epoch 20/20\n",
      " - 76s - loss: 0.4142 - acc: 0.8645\n"
     ]
    },
    {
     "data": {
      "text/plain": [
       "<keras.callbacks.History at 0x15b921119e8>"
      ]
     },
     "execution_count": 75,
     "metadata": {},
     "output_type": "execute_result"
    }
   ],
   "source": [
    "model.fit(x_train,y_cat_train,epochs = 20,verbose = 2)"
   ]
  },
  {
   "cell_type": "code",
   "execution_count": 76,
   "metadata": {},
   "outputs": [
    {
     "name": "stdout",
     "output_type": "stream",
     "text": [
      "10000/10000 [==============================] - 8s 802us/step\n"
     ]
    },
    {
     "data": {
      "text/plain": [
       "[1.6838909366607666, 0.6508]"
      ]
     },
     "execution_count": 76,
     "metadata": {},
     "output_type": "execute_result"
    }
   ],
   "source": [
    "model.evaluate(x_test,y_cat_test)"
   ]
  },
  {
   "cell_type": "code",
   "execution_count": 77,
   "metadata": {},
   "outputs": [],
   "source": [
    "predictions = model.predict_classes(x_test)"
   ]
  },
  {
   "cell_type": "code",
   "execution_count": 78,
   "metadata": {},
   "outputs": [],
   "source": [
    "from sklearn.metrics import classification_report,confusion_matrix"
   ]
  },
  {
   "cell_type": "code",
   "execution_count": 79,
   "metadata": {},
   "outputs": [
    {
     "data": {
      "text/plain": [
       "['loss', 'acc']"
      ]
     },
     "execution_count": 79,
     "metadata": {},
     "output_type": "execute_result"
    }
   ],
   "source": [
    "model.metrics_names"
   ]
  },
  {
   "cell_type": "code",
   "execution_count": 80,
   "metadata": {},
   "outputs": [
    {
     "name": "stdout",
     "output_type": "stream",
     "text": [
      "[[772  18  82  11   3   7   3   5  74  25]\n",
      " [ 33 770  11   2   0   4   7   0  73 100]\n",
      " [ 84   5 656  31  41  85  33  19  34  12]\n",
      " [ 61  18 147 333  35 234  59  31  52  30]\n",
      " [ 74   7 172  54 476  81  52  36  37  11]\n",
      " [ 46  10 110 114  24 583  25  37  29  22]\n",
      " [ 23  10  87  43  24  45 701  10  39  18]\n",
      " [ 52   4  77  36  59 105   7 611  19  30]\n",
      " [ 81  16  18   2   1  10   5   0 837  30]\n",
      " [ 53  69  16  16   2   7   2   6  60 769]]\n"
     ]
    }
   ],
   "source": [
    "print(confusion_matrix(y_test,predictions))"
   ]
  },
  {
   "cell_type": "code",
   "execution_count": 81,
   "metadata": {},
   "outputs": [
    {
     "name": "stdout",
     "output_type": "stream",
     "text": [
      "              precision    recall  f1-score   support\n",
      "\n",
      "           0       0.60      0.77      0.68      1000\n",
      "           1       0.83      0.77      0.80      1000\n",
      "           2       0.48      0.66      0.55      1000\n",
      "           3       0.52      0.33      0.41      1000\n",
      "           4       0.72      0.48      0.57      1000\n",
      "           5       0.50      0.58      0.54      1000\n",
      "           6       0.78      0.70      0.74      1000\n",
      "           7       0.81      0.61      0.70      1000\n",
      "           8       0.67      0.84      0.74      1000\n",
      "           9       0.73      0.77      0.75      1000\n",
      "\n",
      "   micro avg       0.65      0.65      0.65     10000\n",
      "   macro avg       0.66      0.65      0.65     10000\n",
      "weighted avg       0.66      0.65      0.65     10000\n",
      "\n"
     ]
    }
   ],
   "source": [
    "print(classification_report(y_test,predictions))"
   ]
  },
  {
   "cell_type": "code",
   "execution_count": null,
   "metadata": {},
   "outputs": [],
   "source": []
  },
  {
   "cell_type": "code",
   "execution_count": null,
   "metadata": {},
   "outputs": [],
   "source": []
  }
 ],
 "metadata": {
  "kernelspec": {
   "display_name": "Python 3",
   "language": "python",
   "name": "python3"
  },
  "language_info": {
   "codemirror_mode": {
    "name": "ipython",
    "version": 3
   },
   "file_extension": ".py",
   "mimetype": "text/x-python",
   "name": "python",
   "nbconvert_exporter": "python",
   "pygments_lexer": "ipython3",
   "version": "3.7.1"
  }
 },
 "nbformat": 4,
 "nbformat_minor": 2
}
